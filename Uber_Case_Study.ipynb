{
 "cells": [
  {
   "cell_type": "code",
   "execution_count": 1,
   "metadata": {},
   "outputs": [],
   "source": [
    "# importing the required libraries\n",
    "import pandas as pd\n",
    "import matplotlib.pyplot as plt\n",
    "import seaborn as sns"
   ]
  },
  {
   "cell_type": "code",
   "execution_count": 2,
   "metadata": {},
   "outputs": [
    {
     "data": {
      "text/html": [
       "<div>\n",
       "<style scoped>\n",
       "    .dataframe tbody tr th:only-of-type {\n",
       "        vertical-align: middle;\n",
       "    }\n",
       "\n",
       "    .dataframe tbody tr th {\n",
       "        vertical-align: top;\n",
       "    }\n",
       "\n",
       "    .dataframe thead th {\n",
       "        text-align: right;\n",
       "    }\n",
       "</style>\n",
       "<table border=\"1\" class=\"dataframe\">\n",
       "  <thead>\n",
       "    <tr style=\"text-align: right;\">\n",
       "      <th></th>\n",
       "      <th>Request id</th>\n",
       "      <th>Pickup point</th>\n",
       "      <th>Driver id</th>\n",
       "      <th>Status</th>\n",
       "      <th>Request timestamp</th>\n",
       "      <th>Drop timestamp</th>\n",
       "    </tr>\n",
       "  </thead>\n",
       "  <tbody>\n",
       "    <tr>\n",
       "      <th>0</th>\n",
       "      <td>619</td>\n",
       "      <td>Airport</td>\n",
       "      <td>1.0</td>\n",
       "      <td>Trip Completed</td>\n",
       "      <td>11/7/2016 11:51</td>\n",
       "      <td>11/7/2016 13:00</td>\n",
       "    </tr>\n",
       "    <tr>\n",
       "      <th>1</th>\n",
       "      <td>867</td>\n",
       "      <td>Airport</td>\n",
       "      <td>1.0</td>\n",
       "      <td>Trip Completed</td>\n",
       "      <td>11/7/2016 17:57</td>\n",
       "      <td>11/7/2016 18:47</td>\n",
       "    </tr>\n",
       "    <tr>\n",
       "      <th>2</th>\n",
       "      <td>1807</td>\n",
       "      <td>City</td>\n",
       "      <td>1.0</td>\n",
       "      <td>Trip Completed</td>\n",
       "      <td>12/7/2016 9:17</td>\n",
       "      <td>12/7/2016 9:58</td>\n",
       "    </tr>\n",
       "    <tr>\n",
       "      <th>3</th>\n",
       "      <td>2532</td>\n",
       "      <td>Airport</td>\n",
       "      <td>1.0</td>\n",
       "      <td>Trip Completed</td>\n",
       "      <td>12/7/2016 21:08</td>\n",
       "      <td>12/7/2016 22:03</td>\n",
       "    </tr>\n",
       "    <tr>\n",
       "      <th>4</th>\n",
       "      <td>3112</td>\n",
       "      <td>City</td>\n",
       "      <td>1.0</td>\n",
       "      <td>Trip Completed</td>\n",
       "      <td>13-07-2016 08:33:16</td>\n",
       "      <td>13-07-2016 09:25:47</td>\n",
       "    </tr>\n",
       "    <tr>\n",
       "      <th>5</th>\n",
       "      <td>3879</td>\n",
       "      <td>Airport</td>\n",
       "      <td>1.0</td>\n",
       "      <td>Trip Completed</td>\n",
       "      <td>13-07-2016 21:57:28</td>\n",
       "      <td>13-07-2016 22:28:59</td>\n",
       "    </tr>\n",
       "    <tr>\n",
       "      <th>6</th>\n",
       "      <td>4270</td>\n",
       "      <td>Airport</td>\n",
       "      <td>1.0</td>\n",
       "      <td>Trip Completed</td>\n",
       "      <td>14-07-2016 06:15:32</td>\n",
       "      <td>14-07-2016 07:13:15</td>\n",
       "    </tr>\n",
       "    <tr>\n",
       "      <th>7</th>\n",
       "      <td>5510</td>\n",
       "      <td>Airport</td>\n",
       "      <td>1.0</td>\n",
       "      <td>Trip Completed</td>\n",
       "      <td>15-07-2016 05:11:52</td>\n",
       "      <td>15-07-2016 06:07:52</td>\n",
       "    </tr>\n",
       "    <tr>\n",
       "      <th>8</th>\n",
       "      <td>6248</td>\n",
       "      <td>City</td>\n",
       "      <td>1.0</td>\n",
       "      <td>Trip Completed</td>\n",
       "      <td>15-07-2016 17:57:27</td>\n",
       "      <td>15-07-2016 18:50:51</td>\n",
       "    </tr>\n",
       "    <tr>\n",
       "      <th>9</th>\n",
       "      <td>267</td>\n",
       "      <td>City</td>\n",
       "      <td>2.0</td>\n",
       "      <td>Trip Completed</td>\n",
       "      <td>11/7/2016 6:46</td>\n",
       "      <td>11/7/2016 7:25</td>\n",
       "    </tr>\n",
       "  </tbody>\n",
       "</table>\n",
       "</div>"
      ],
      "text/plain": [
       "   Request id Pickup point  Driver id          Status    Request timestamp  \\\n",
       "0         619      Airport        1.0  Trip Completed      11/7/2016 11:51   \n",
       "1         867      Airport        1.0  Trip Completed      11/7/2016 17:57   \n",
       "2        1807         City        1.0  Trip Completed       12/7/2016 9:17   \n",
       "3        2532      Airport        1.0  Trip Completed      12/7/2016 21:08   \n",
       "4        3112         City        1.0  Trip Completed  13-07-2016 08:33:16   \n",
       "5        3879      Airport        1.0  Trip Completed  13-07-2016 21:57:28   \n",
       "6        4270      Airport        1.0  Trip Completed  14-07-2016 06:15:32   \n",
       "7        5510      Airport        1.0  Trip Completed  15-07-2016 05:11:52   \n",
       "8        6248         City        1.0  Trip Completed  15-07-2016 17:57:27   \n",
       "9         267         City        2.0  Trip Completed       11/7/2016 6:46   \n",
       "\n",
       "        Drop timestamp  \n",
       "0      11/7/2016 13:00  \n",
       "1      11/7/2016 18:47  \n",
       "2       12/7/2016 9:58  \n",
       "3      12/7/2016 22:03  \n",
       "4  13-07-2016 09:25:47  \n",
       "5  13-07-2016 22:28:59  \n",
       "6  14-07-2016 07:13:15  \n",
       "7  15-07-2016 06:07:52  \n",
       "8  15-07-2016 18:50:51  \n",
       "9       11/7/2016 7:25  "
      ]
     },
     "execution_count": 2,
     "metadata": {},
     "output_type": "execute_result"
    }
   ],
   "source": [
    "# reading the uber file present in our working dorectory\n",
    "uber = pd.read_csv(\"Uber Request Data.csv\",encoding='utf-8')\n",
    "# displaying the first 10 lines of the data frame\n",
    "uber.head(10)"
   ]
  },
  {
   "cell_type": "code",
   "execution_count": 3,
   "metadata": {},
   "outputs": [
    {
     "data": {
      "text/plain": [
       "(6745, 6)"
      ]
     },
     "execution_count": 3,
     "metadata": {},
     "output_type": "execute_result"
    }
   ],
   "source": [
    "# display the dimensions of the data set\n",
    "uber.shape"
   ]
  },
  {
   "cell_type": "code",
   "execution_count": 4,
   "metadata": {},
   "outputs": [
    {
     "name": "stdout",
     "output_type": "stream",
     "text": [
      "<class 'pandas.core.frame.DataFrame'>\n",
      "RangeIndex: 6745 entries, 0 to 6744\n",
      "Data columns (total 6 columns):\n",
      "Request id           6745 non-null int64\n",
      "Pickup point         6745 non-null object\n",
      "Driver id            4095 non-null float64\n",
      "Status               6745 non-null object\n",
      "Request timestamp    6745 non-null object\n",
      "Drop timestamp       2831 non-null object\n",
      "dtypes: float64(1), int64(1), object(4)\n",
      "memory usage: 316.2+ KB\n"
     ]
    }
   ],
   "source": [
    "# checking the datatype of columns\n",
    "uber.info()"
   ]
  },
  {
   "cell_type": "code",
   "execution_count": 5,
   "metadata": {},
   "outputs": [
    {
     "data": {
      "text/plain": [
       "Request id              0\n",
       "Pickup point            0\n",
       "Driver id            2650\n",
       "Status                  0\n",
       "Request timestamp       0\n",
       "Drop timestamp       3914\n",
       "dtype: int64"
      ]
     },
     "execution_count": 5,
     "metadata": {},
     "output_type": "execute_result"
    }
   ],
   "source": [
    "# counting the number of null values in the dataset if any\n",
    "uber.isnull().sum()"
   ]
  },
  {
   "cell_type": "code",
   "execution_count": 6,
   "metadata": {},
   "outputs": [
    {
     "data": {
      "text/plain": [
       "Request id            0.000000\n",
       "Pickup point          0.000000\n",
       "Driver id            39.288362\n",
       "Status                0.000000\n",
       "Request timestamp     0.000000\n",
       "Drop timestamp       58.028169\n",
       "dtype: float64"
      ]
     },
     "execution_count": 6,
     "metadata": {},
     "output_type": "execute_result"
    }
   ],
   "source": [
    "# finding the percentage of missing values\n",
    "uber.isnull().sum()*100/uber.shape[0]"
   ]
  },
  {
   "cell_type": "code",
   "execution_count": 7,
   "metadata": {},
   "outputs": [],
   "source": [
    "# converting the 'Request timestamp' column into str format to replace the '/' with '-'\n",
    "uber['Request timestamp'] = uber['Request timestamp'].astype(str)"
   ]
  },
  {
   "cell_type": "code",
   "execution_count": 8,
   "metadata": {},
   "outputs": [],
   "source": [
    "# converting the date into the proper fornmat, removing the / and replacing with '-'\n",
    "uber['Request timestamp'] = uber['Request timestamp'].str.replace(\"/\",\"-\")\n",
    "# converting the column format to datetime\n",
    "uber['Request timestamp'] = pd.to_datetime(uber[\"Request timestamp\"])"
   ]
  },
  {
   "cell_type": "code",
   "execution_count": 9,
   "metadata": {},
   "outputs": [],
   "source": [
    "# Converting the Drop timestamp column to str type\n",
    "uber['Drop timestamp'] = uber['Drop timestamp'].astype(str)"
   ]
  },
  {
   "cell_type": "code",
   "execution_count": 10,
   "metadata": {},
   "outputs": [],
   "source": [
    "# converting all the sated into a standard form by removing '/' and replacing with '-'\n",
    "uber['Drop timestamp'] = uber['Drop timestamp'].str.replace(\"/\",\"-\")\n",
    "# converting the Drop timestamp column to datetime \n",
    "uber['Drop timestamp'] = pd.to_datetime(uber['Drop timestamp'])"
   ]
  },
  {
   "cell_type": "code",
   "execution_count": 11,
   "metadata": {},
   "outputs": [
    {
     "data": {
      "text/html": [
       "<div>\n",
       "<style scoped>\n",
       "    .dataframe tbody tr th:only-of-type {\n",
       "        vertical-align: middle;\n",
       "    }\n",
       "\n",
       "    .dataframe tbody tr th {\n",
       "        vertical-align: top;\n",
       "    }\n",
       "\n",
       "    .dataframe thead th {\n",
       "        text-align: right;\n",
       "    }\n",
       "</style>\n",
       "<table border=\"1\" class=\"dataframe\">\n",
       "  <thead>\n",
       "    <tr style=\"text-align: right;\">\n",
       "      <th></th>\n",
       "      <th>Request id</th>\n",
       "      <th>Pickup point</th>\n",
       "      <th>Driver id</th>\n",
       "      <th>Status</th>\n",
       "      <th>Request timestamp</th>\n",
       "      <th>Drop timestamp</th>\n",
       "    </tr>\n",
       "  </thead>\n",
       "  <tbody>\n",
       "    <tr>\n",
       "      <th>0</th>\n",
       "      <td>619</td>\n",
       "      <td>Airport</td>\n",
       "      <td>1.0</td>\n",
       "      <td>Trip Completed</td>\n",
       "      <td>2016-11-07 11:51:00</td>\n",
       "      <td>2016-11-07 13:00:00</td>\n",
       "    </tr>\n",
       "    <tr>\n",
       "      <th>1</th>\n",
       "      <td>867</td>\n",
       "      <td>Airport</td>\n",
       "      <td>1.0</td>\n",
       "      <td>Trip Completed</td>\n",
       "      <td>2016-11-07 17:57:00</td>\n",
       "      <td>2016-11-07 18:47:00</td>\n",
       "    </tr>\n",
       "    <tr>\n",
       "      <th>2</th>\n",
       "      <td>1807</td>\n",
       "      <td>City</td>\n",
       "      <td>1.0</td>\n",
       "      <td>Trip Completed</td>\n",
       "      <td>2016-12-07 09:17:00</td>\n",
       "      <td>2016-12-07 09:58:00</td>\n",
       "    </tr>\n",
       "    <tr>\n",
       "      <th>3</th>\n",
       "      <td>2532</td>\n",
       "      <td>Airport</td>\n",
       "      <td>1.0</td>\n",
       "      <td>Trip Completed</td>\n",
       "      <td>2016-12-07 21:08:00</td>\n",
       "      <td>2016-12-07 22:03:00</td>\n",
       "    </tr>\n",
       "    <tr>\n",
       "      <th>4</th>\n",
       "      <td>3112</td>\n",
       "      <td>City</td>\n",
       "      <td>1.0</td>\n",
       "      <td>Trip Completed</td>\n",
       "      <td>2016-07-13 08:33:16</td>\n",
       "      <td>2016-07-13 09:25:47</td>\n",
       "    </tr>\n",
       "    <tr>\n",
       "      <th>5</th>\n",
       "      <td>3879</td>\n",
       "      <td>Airport</td>\n",
       "      <td>1.0</td>\n",
       "      <td>Trip Completed</td>\n",
       "      <td>2016-07-13 21:57:28</td>\n",
       "      <td>2016-07-13 22:28:59</td>\n",
       "    </tr>\n",
       "    <tr>\n",
       "      <th>6</th>\n",
       "      <td>4270</td>\n",
       "      <td>Airport</td>\n",
       "      <td>1.0</td>\n",
       "      <td>Trip Completed</td>\n",
       "      <td>2016-07-14 06:15:32</td>\n",
       "      <td>2016-07-14 07:13:15</td>\n",
       "    </tr>\n",
       "    <tr>\n",
       "      <th>7</th>\n",
       "      <td>5510</td>\n",
       "      <td>Airport</td>\n",
       "      <td>1.0</td>\n",
       "      <td>Trip Completed</td>\n",
       "      <td>2016-07-15 05:11:52</td>\n",
       "      <td>2016-07-15 06:07:52</td>\n",
       "    </tr>\n",
       "    <tr>\n",
       "      <th>8</th>\n",
       "      <td>6248</td>\n",
       "      <td>City</td>\n",
       "      <td>1.0</td>\n",
       "      <td>Trip Completed</td>\n",
       "      <td>2016-07-15 17:57:27</td>\n",
       "      <td>2016-07-15 18:50:51</td>\n",
       "    </tr>\n",
       "    <tr>\n",
       "      <th>9</th>\n",
       "      <td>267</td>\n",
       "      <td>City</td>\n",
       "      <td>2.0</td>\n",
       "      <td>Trip Completed</td>\n",
       "      <td>2016-11-07 06:46:00</td>\n",
       "      <td>2016-11-07 07:25:00</td>\n",
       "    </tr>\n",
       "  </tbody>\n",
       "</table>\n",
       "</div>"
      ],
      "text/plain": [
       "   Request id Pickup point  Driver id          Status   Request timestamp  \\\n",
       "0         619      Airport        1.0  Trip Completed 2016-11-07 11:51:00   \n",
       "1         867      Airport        1.0  Trip Completed 2016-11-07 17:57:00   \n",
       "2        1807         City        1.0  Trip Completed 2016-12-07 09:17:00   \n",
       "3        2532      Airport        1.0  Trip Completed 2016-12-07 21:08:00   \n",
       "4        3112         City        1.0  Trip Completed 2016-07-13 08:33:16   \n",
       "5        3879      Airport        1.0  Trip Completed 2016-07-13 21:57:28   \n",
       "6        4270      Airport        1.0  Trip Completed 2016-07-14 06:15:32   \n",
       "7        5510      Airport        1.0  Trip Completed 2016-07-15 05:11:52   \n",
       "8        6248         City        1.0  Trip Completed 2016-07-15 17:57:27   \n",
       "9         267         City        2.0  Trip Completed 2016-11-07 06:46:00   \n",
       "\n",
       "       Drop timestamp  \n",
       "0 2016-11-07 13:00:00  \n",
       "1 2016-11-07 18:47:00  \n",
       "2 2016-12-07 09:58:00  \n",
       "3 2016-12-07 22:03:00  \n",
       "4 2016-07-13 09:25:47  \n",
       "5 2016-07-13 22:28:59  \n",
       "6 2016-07-14 07:13:15  \n",
       "7 2016-07-15 06:07:52  \n",
       "8 2016-07-15 18:50:51  \n",
       "9 2016-11-07 07:25:00  "
      ]
     },
     "execution_count": 11,
     "metadata": {},
     "output_type": "execute_result"
    }
   ],
   "source": [
    "# display the dataframe after changing the column types\n",
    "uber.head(10)"
   ]
  },
  {
   "cell_type": "code",
   "execution_count": 12,
   "metadata": {},
   "outputs": [
    {
     "name": "stdout",
     "output_type": "stream",
     "text": [
      "<class 'pandas.core.frame.DataFrame'>\n",
      "RangeIndex: 6745 entries, 0 to 6744\n",
      "Data columns (total 6 columns):\n",
      "Request id           6745 non-null int64\n",
      "Pickup point         6745 non-null object\n",
      "Driver id            4095 non-null float64\n",
      "Status               6745 non-null object\n",
      "Request timestamp    6745 non-null datetime64[ns]\n",
      "Drop timestamp       2831 non-null datetime64[ns]\n",
      "dtypes: datetime64[ns](2), float64(1), int64(1), object(2)\n",
      "memory usage: 316.2+ KB\n"
     ]
    }
   ],
   "source": [
    "# displaying the information of the entire dataset after changing the data type of columns\n",
    "uber.info()"
   ]
  },
  {
   "cell_type": "code",
   "execution_count": 13,
   "metadata": {
    "scrolled": true
   },
   "outputs": [
    {
     "data": {
      "text/html": [
       "<div>\n",
       "<style scoped>\n",
       "    .dataframe tbody tr th:only-of-type {\n",
       "        vertical-align: middle;\n",
       "    }\n",
       "\n",
       "    .dataframe tbody tr th {\n",
       "        vertical-align: top;\n",
       "    }\n",
       "\n",
       "    .dataframe thead th {\n",
       "        text-align: right;\n",
       "    }\n",
       "</style>\n",
       "<table border=\"1\" class=\"dataframe\">\n",
       "  <thead>\n",
       "    <tr style=\"text-align: right;\">\n",
       "      <th></th>\n",
       "      <th>Request id</th>\n",
       "      <th>Pickup point</th>\n",
       "      <th>Driver id</th>\n",
       "      <th>Status</th>\n",
       "      <th>Request timestamp</th>\n",
       "      <th>Drop timestamp</th>\n",
       "      <th>Request_hour</th>\n",
       "    </tr>\n",
       "  </thead>\n",
       "  <tbody>\n",
       "    <tr>\n",
       "      <th>0</th>\n",
       "      <td>619</td>\n",
       "      <td>Airport</td>\n",
       "      <td>1.0</td>\n",
       "      <td>Trip Completed</td>\n",
       "      <td>2016-11-07 11:51:00</td>\n",
       "      <td>2016-11-07 13:00:00</td>\n",
       "      <td>11</td>\n",
       "    </tr>\n",
       "    <tr>\n",
       "      <th>1</th>\n",
       "      <td>867</td>\n",
       "      <td>Airport</td>\n",
       "      <td>1.0</td>\n",
       "      <td>Trip Completed</td>\n",
       "      <td>2016-11-07 17:57:00</td>\n",
       "      <td>2016-11-07 18:47:00</td>\n",
       "      <td>17</td>\n",
       "    </tr>\n",
       "    <tr>\n",
       "      <th>2</th>\n",
       "      <td>1807</td>\n",
       "      <td>City</td>\n",
       "      <td>1.0</td>\n",
       "      <td>Trip Completed</td>\n",
       "      <td>2016-12-07 09:17:00</td>\n",
       "      <td>2016-12-07 09:58:00</td>\n",
       "      <td>9</td>\n",
       "    </tr>\n",
       "    <tr>\n",
       "      <th>3</th>\n",
       "      <td>2532</td>\n",
       "      <td>Airport</td>\n",
       "      <td>1.0</td>\n",
       "      <td>Trip Completed</td>\n",
       "      <td>2016-12-07 21:08:00</td>\n",
       "      <td>2016-12-07 22:03:00</td>\n",
       "      <td>21</td>\n",
       "    </tr>\n",
       "    <tr>\n",
       "      <th>4</th>\n",
       "      <td>3112</td>\n",
       "      <td>City</td>\n",
       "      <td>1.0</td>\n",
       "      <td>Trip Completed</td>\n",
       "      <td>2016-07-13 08:33:16</td>\n",
       "      <td>2016-07-13 09:25:47</td>\n",
       "      <td>8</td>\n",
       "    </tr>\n",
       "  </tbody>\n",
       "</table>\n",
       "</div>"
      ],
      "text/plain": [
       "   Request id Pickup point  Driver id          Status   Request timestamp  \\\n",
       "0         619      Airport        1.0  Trip Completed 2016-11-07 11:51:00   \n",
       "1         867      Airport        1.0  Trip Completed 2016-11-07 17:57:00   \n",
       "2        1807         City        1.0  Trip Completed 2016-12-07 09:17:00   \n",
       "3        2532      Airport        1.0  Trip Completed 2016-12-07 21:08:00   \n",
       "4        3112         City        1.0  Trip Completed 2016-07-13 08:33:16   \n",
       "\n",
       "       Drop timestamp  Request_hour  \n",
       "0 2016-11-07 13:00:00            11  \n",
       "1 2016-11-07 18:47:00            17  \n",
       "2 2016-12-07 09:58:00             9  \n",
       "3 2016-12-07 22:03:00            21  \n",
       "4 2016-07-13 09:25:47             8  "
      ]
     },
     "execution_count": 13,
     "metadata": {},
     "output_type": "execute_result"
    }
   ],
   "source": [
    "# extracting the hours from the request timestamp\n",
    "request_hour = uber['Request timestamp'].dt.hour\n",
    "# adding the computed list into the present dataframe \n",
    "uber[\"Request_hour\"] = request_hour\n",
    "# displaying the top 5 columns of the dataframe\n",
    "uber.head()"
   ]
  },
  {
   "cell_type": "code",
   "execution_count": 14,
   "metadata": {},
   "outputs": [
    {
     "data": {
      "text/html": [
       "<div>\n",
       "<style scoped>\n",
       "    .dataframe tbody tr th:only-of-type {\n",
       "        vertical-align: middle;\n",
       "    }\n",
       "\n",
       "    .dataframe tbody tr th {\n",
       "        vertical-align: top;\n",
       "    }\n",
       "\n",
       "    .dataframe thead th {\n",
       "        text-align: right;\n",
       "    }\n",
       "</style>\n",
       "<table border=\"1\" class=\"dataframe\">\n",
       "  <thead>\n",
       "    <tr style=\"text-align: right;\">\n",
       "      <th></th>\n",
       "      <th>Request id</th>\n",
       "      <th>Pickup point</th>\n",
       "      <th>Driver id</th>\n",
       "      <th>Status</th>\n",
       "      <th>Request timestamp</th>\n",
       "      <th>Drop timestamp</th>\n",
       "      <th>Request_hour</th>\n",
       "      <th>Request_day</th>\n",
       "    </tr>\n",
       "  </thead>\n",
       "  <tbody>\n",
       "    <tr>\n",
       "      <th>0</th>\n",
       "      <td>619</td>\n",
       "      <td>Airport</td>\n",
       "      <td>1.0</td>\n",
       "      <td>Trip Completed</td>\n",
       "      <td>2016-11-07 11:51:00</td>\n",
       "      <td>2016-11-07 13:00:00</td>\n",
       "      <td>11</td>\n",
       "      <td>7</td>\n",
       "    </tr>\n",
       "    <tr>\n",
       "      <th>1</th>\n",
       "      <td>867</td>\n",
       "      <td>Airport</td>\n",
       "      <td>1.0</td>\n",
       "      <td>Trip Completed</td>\n",
       "      <td>2016-11-07 17:57:00</td>\n",
       "      <td>2016-11-07 18:47:00</td>\n",
       "      <td>17</td>\n",
       "      <td>7</td>\n",
       "    </tr>\n",
       "    <tr>\n",
       "      <th>2</th>\n",
       "      <td>1807</td>\n",
       "      <td>City</td>\n",
       "      <td>1.0</td>\n",
       "      <td>Trip Completed</td>\n",
       "      <td>2016-12-07 09:17:00</td>\n",
       "      <td>2016-12-07 09:58:00</td>\n",
       "      <td>9</td>\n",
       "      <td>7</td>\n",
       "    </tr>\n",
       "    <tr>\n",
       "      <th>3</th>\n",
       "      <td>2532</td>\n",
       "      <td>Airport</td>\n",
       "      <td>1.0</td>\n",
       "      <td>Trip Completed</td>\n",
       "      <td>2016-12-07 21:08:00</td>\n",
       "      <td>2016-12-07 22:03:00</td>\n",
       "      <td>21</td>\n",
       "      <td>7</td>\n",
       "    </tr>\n",
       "    <tr>\n",
       "      <th>4</th>\n",
       "      <td>3112</td>\n",
       "      <td>City</td>\n",
       "      <td>1.0</td>\n",
       "      <td>Trip Completed</td>\n",
       "      <td>2016-07-13 08:33:16</td>\n",
       "      <td>2016-07-13 09:25:47</td>\n",
       "      <td>8</td>\n",
       "      <td>13</td>\n",
       "    </tr>\n",
       "  </tbody>\n",
       "</table>\n",
       "</div>"
      ],
      "text/plain": [
       "   Request id Pickup point  Driver id          Status   Request timestamp  \\\n",
       "0         619      Airport        1.0  Trip Completed 2016-11-07 11:51:00   \n",
       "1         867      Airport        1.0  Trip Completed 2016-11-07 17:57:00   \n",
       "2        1807         City        1.0  Trip Completed 2016-12-07 09:17:00   \n",
       "3        2532      Airport        1.0  Trip Completed 2016-12-07 21:08:00   \n",
       "4        3112         City        1.0  Trip Completed 2016-07-13 08:33:16   \n",
       "\n",
       "       Drop timestamp  Request_hour  Request_day  \n",
       "0 2016-11-07 13:00:00            11            7  \n",
       "1 2016-11-07 18:47:00            17            7  \n",
       "2 2016-12-07 09:58:00             9            7  \n",
       "3 2016-12-07 22:03:00            21            7  \n",
       "4 2016-07-13 09:25:47             8           13  "
      ]
     },
     "execution_count": 14,
     "metadata": {},
     "output_type": "execute_result"
    }
   ],
   "source": [
    "# Extracting the day from the request timestamp\n",
    "request_day = uber['Request timestamp'].dt.day\n",
    "# attaching the Request day column to the dataframe\n",
    "uber['Request_day'] = request_day\n",
    "uber.head()"
   ]
  },
  {
   "cell_type": "code",
   "execution_count": 15,
   "metadata": {},
   "outputs": [
    {
     "name": "stderr",
     "output_type": "stream",
     "text": [
      "C:\\Users\\Yuthika\\Anaconda3\\lib\\site-packages\\scipy\\stats\\stats.py:1713: FutureWarning: Using a non-tuple sequence for multidimensional indexing is deprecated; use `arr[tuple(seq)]` instead of `arr[seq]`. In the future this will be interpreted as an array index, `arr[np.array(seq)]`, which will result either in an error or a different result.\n",
      "  return np.add.reduce(sorted[indexer] * weights, axis=axis) / sumval\n"
     ]
    },
    {
     "data": {
      "text/plain": [
       "Text(0.5, 1.0, 'Request hour V/S Request day w.r.t Status')"
      ]
     },
     "execution_count": 15,
     "metadata": {},
     "output_type": "execute_result"
    },
    {
     "data": {
      "image/png": "[encoded data removed]",
      "text/plain": [
       "<Figure size 484.125x360 with 1 Axes>"
      ]
     },
     "metadata": {
      "needs_background": "light"
     },
     "output_type": "display_data"
    }
   ],
   "source": [
    "# plotting the hour and day on the barplot w.r.t Status of the cabs\n",
    "sns.catplot(x='Request_hour',y=\"Request_day\",hue='Status',data=uber,kind=\"point\",palette='Set1')\n",
    "plt.xlabel('Request Hour',fontweight='bold')\n",
    "plt.ylabel(\"Request Day\",fontweight='bold')\n",
    "plt.title('Request hour V/S Request day w.r.t Status',fontweight='bold')"
   ]
  },
  {
   "cell_type": "code",
   "execution_count": 16,
   "metadata": {},
   "outputs": [
    {
     "data": {
      "text/plain": [
       "Text(0.5, 1.0, 'Request Hour V/S Pickup Point')"
      ]
     },
     "execution_count": 16,
     "metadata": {},
     "output_type": "execute_result"
    },
    {
     "data": {
      "image/png": "[encoded data removed]",
      "text/plain": [
       "<Figure size 432x288 with 1 Axes>"
      ]
     },
     "metadata": {
      "needs_background": "light"
     },
     "output_type": "display_data"
    }
   ],
   "source": [
    "# plotting the request hour versus the pickup point\n",
    "sns.countplot(x=\"Request_hour\", hue='Pickup point', data=uber, palette=\"Reds_d\")\n",
    "# setting the x label\n",
    "plt.xlabel(\"Request Hour\",fontweight=\"bold\")\n",
    "# setting up the y label\n",
    "plt.ylabel(\"Pickup Point\",fontweight=\"bold\")\n",
    "# setting the title of the plot\n",
    "plt.title(\"Request Hour V/S Pickup Point\",fontweight=\"bold\")"
   ]
  },
  {
   "cell_type": "code",
   "execution_count": 17,
   "metadata": {},
   "outputs": [],
   "source": [
    "# dividing the dataframe based on various time slots of the day\n",
    "def time_of_the_day(x):\n",
    "    if x < 5:\n",
    "        return \"Early Morning\"\n",
    "    elif 5 <= x < 12:\n",
    "        return \"Morning\"\n",
    "    elif 12 <= x < 17:\n",
    "        return \"Afternoon\"\n",
    "    elif 17 <= x < 22:\n",
    "        return \"Evening\"\n",
    "    else:\n",
    "        return \"Late Night\"\n",
    "\n",
    "# adding the time of the day just calculated to the main dataframe\n",
    "uber['Time_of_the_day'] = uber['Request_hour'].apply(lambda x: time_of_the_day(x))"
   ]
  },
  {
   "cell_type": "code",
   "execution_count": 18,
   "metadata": {},
   "outputs": [
    {
     "data": {
      "text/html": [
       "<div>\n",
       "<style scoped>\n",
       "    .dataframe tbody tr th:only-of-type {\n",
       "        vertical-align: middle;\n",
       "    }\n",
       "\n",
       "    .dataframe tbody tr th {\n",
       "        vertical-align: top;\n",
       "    }\n",
       "\n",
       "    .dataframe thead th {\n",
       "        text-align: right;\n",
       "    }\n",
       "</style>\n",
       "<table border=\"1\" class=\"dataframe\">\n",
       "  <thead>\n",
       "    <tr style=\"text-align: right;\">\n",
       "      <th></th>\n",
       "      <th>Request id</th>\n",
       "      <th>Pickup point</th>\n",
       "      <th>Driver id</th>\n",
       "      <th>Status</th>\n",
       "      <th>Request timestamp</th>\n",
       "      <th>Drop timestamp</th>\n",
       "      <th>Request_hour</th>\n",
       "      <th>Request_day</th>\n",
       "      <th>Time_of_the_day</th>\n",
       "    </tr>\n",
       "  </thead>\n",
       "  <tbody>\n",
       "    <tr>\n",
       "      <th>0</th>\n",
       "      <td>619</td>\n",
       "      <td>Airport</td>\n",
       "      <td>1.0</td>\n",
       "      <td>Trip Completed</td>\n",
       "      <td>2016-11-07 11:51:00</td>\n",
       "      <td>2016-11-07 13:00:00</td>\n",
       "      <td>11</td>\n",
       "      <td>7</td>\n",
       "      <td>Morning</td>\n",
       "    </tr>\n",
       "    <tr>\n",
       "      <th>1</th>\n",
       "      <td>867</td>\n",
       "      <td>Airport</td>\n",
       "      <td>1.0</td>\n",
       "      <td>Trip Completed</td>\n",
       "      <td>2016-11-07 17:57:00</td>\n",
       "      <td>2016-11-07 18:47:00</td>\n",
       "      <td>17</td>\n",
       "      <td>7</td>\n",
       "      <td>Evening</td>\n",
       "    </tr>\n",
       "    <tr>\n",
       "      <th>2</th>\n",
       "      <td>1807</td>\n",
       "      <td>City</td>\n",
       "      <td>1.0</td>\n",
       "      <td>Trip Completed</td>\n",
       "      <td>2016-12-07 09:17:00</td>\n",
       "      <td>2016-12-07 09:58:00</td>\n",
       "      <td>9</td>\n",
       "      <td>7</td>\n",
       "      <td>Morning</td>\n",
       "    </tr>\n",
       "    <tr>\n",
       "      <th>3</th>\n",
       "      <td>2532</td>\n",
       "      <td>Airport</td>\n",
       "      <td>1.0</td>\n",
       "      <td>Trip Completed</td>\n",
       "      <td>2016-12-07 21:08:00</td>\n",
       "      <td>2016-12-07 22:03:00</td>\n",
       "      <td>21</td>\n",
       "      <td>7</td>\n",
       "      <td>Evening</td>\n",
       "    </tr>\n",
       "    <tr>\n",
       "      <th>4</th>\n",
       "      <td>3112</td>\n",
       "      <td>City</td>\n",
       "      <td>1.0</td>\n",
       "      <td>Trip Completed</td>\n",
       "      <td>2016-07-13 08:33:16</td>\n",
       "      <td>2016-07-13 09:25:47</td>\n",
       "      <td>8</td>\n",
       "      <td>13</td>\n",
       "      <td>Morning</td>\n",
       "    </tr>\n",
       "  </tbody>\n",
       "</table>\n",
       "</div>"
      ],
      "text/plain": [
       "   Request id Pickup point  Driver id          Status   Request timestamp  \\\n",
       "0         619      Airport        1.0  Trip Completed 2016-11-07 11:51:00   \n",
       "1         867      Airport        1.0  Trip Completed 2016-11-07 17:57:00   \n",
       "2        1807         City        1.0  Trip Completed 2016-12-07 09:17:00   \n",
       "3        2532      Airport        1.0  Trip Completed 2016-12-07 21:08:00   \n",
       "4        3112         City        1.0  Trip Completed 2016-07-13 08:33:16   \n",
       "\n",
       "       Drop timestamp  Request_hour  Request_day Time_of_the_day  \n",
       "0 2016-11-07 13:00:00            11            7         Morning  \n",
       "1 2016-11-07 18:47:00            17            7         Evening  \n",
       "2 2016-12-07 09:58:00             9            7         Morning  \n",
       "3 2016-12-07 22:03:00            21            7         Evening  \n",
       "4 2016-07-13 09:25:47             8           13         Morning  "
      ]
     },
     "execution_count": 18,
     "metadata": {},
     "output_type": "execute_result"
    }
   ],
   "source": [
    "# displaying the dataframe after dividing the entire dataframe into various time slots(\" early morning, morning, afternoon, evening, late night\")\n",
    "uber.head()"
   ]
  },
  {
   "cell_type": "code",
   "execution_count": 19,
   "metadata": {},
   "outputs": [
    {
     "data": {
      "text/plain": [
       "Morning          2517\n",
       "Evening          2342\n",
       "Afternoon         810\n",
       "Early Morning     578\n",
       "Late Night        498\n",
       "Name: Time_of_the_day, dtype: int64"
      ]
     },
     "execution_count": 19,
     "metadata": {},
     "output_type": "execute_result"
    }
   ],
   "source": [
    "# counting the number of values in the 'time_of_the_day' column\n",
    "uber['Time_of_the_day'].value_counts()"
   ]
  },
  {
   "cell_type": "code",
   "execution_count": 20,
   "metadata": {},
   "outputs": [
    {
     "data": {
      "text/plain": [
       "Text(0.5, 1.0, 'Duration of the day V/S Status of Cabs')"
      ]
     },
     "execution_count": 20,
     "metadata": {},
     "output_type": "execute_result"
    },
    {
     "data": {
      "image/png": "[encoded data removed]",
      "text/plain": [
       "<Figure size 432x288 with 1 Axes>"
      ]
     },
     "metadata": {
      "needs_background": "light"
     },
     "output_type": "display_data"
    }
   ],
   "source": [
    "# plotting the graph for various times of the day versus the status of the trip\n",
    "sns.countplot(x='Time_of_the_day', hue='Status', data=uber, palette=\"Greens_d\")\n",
    "# setting the x label\n",
    "plt.xlabel('Duration of the Day',fontweight=\"bold\")\n",
    "# setting the y label\n",
    "plt.ylabel(\"Status of cabs\",fontweight='bold')\n",
    "# setting the title of the plot\n",
    "plt.title(\"Duration of the day V/S Status of Cabs\",fontweight='bold')"
   ]
  },
  {
   "cell_type": "code",
   "execution_count": 21,
   "metadata": {},
   "outputs": [
    {
     "data": {
      "text/html": [
       "<div>\n",
       "<style scoped>\n",
       "    .dataframe tbody tr th:only-of-type {\n",
       "        vertical-align: middle;\n",
       "    }\n",
       "\n",
       "    .dataframe tbody tr th {\n",
       "        vertical-align: top;\n",
       "    }\n",
       "\n",
       "    .dataframe thead th {\n",
       "        text-align: right;\n",
       "    }\n",
       "</style>\n",
       "<table border=\"1\" class=\"dataframe\">\n",
       "  <thead>\n",
       "    <tr style=\"text-align: right;\">\n",
       "      <th></th>\n",
       "      <th>Request id</th>\n",
       "      <th>Pickup point</th>\n",
       "      <th>Driver id</th>\n",
       "      <th>Status</th>\n",
       "      <th>Request timestamp</th>\n",
       "      <th>Drop timestamp</th>\n",
       "      <th>Request_hour</th>\n",
       "      <th>Request_day</th>\n",
       "      <th>Time_of_the_day</th>\n",
       "    </tr>\n",
       "  </thead>\n",
       "  <tbody>\n",
       "    <tr>\n",
       "      <th>12</th>\n",
       "      <td>2784</td>\n",
       "      <td>Airport</td>\n",
       "      <td>2.0</td>\n",
       "      <td>Trip Completed</td>\n",
       "      <td>2016-07-13 04:49:20</td>\n",
       "      <td>2016-07-13 05:23:03</td>\n",
       "      <td>4</td>\n",
       "      <td>13</td>\n",
       "      <td>Early Morning</td>\n",
       "    </tr>\n",
       "    <tr>\n",
       "      <th>26</th>\n",
       "      <td>5434</td>\n",
       "      <td>City</td>\n",
       "      <td>3.0</td>\n",
       "      <td>Trip Completed</td>\n",
       "      <td>2016-07-15 02:41:38</td>\n",
       "      <td>2016-07-15 03:24:43</td>\n",
       "      <td>2</td>\n",
       "      <td>15</td>\n",
       "      <td>Early Morning</td>\n",
       "    </tr>\n",
       "    <tr>\n",
       "      <th>34</th>\n",
       "      <td>4075</td>\n",
       "      <td>City</td>\n",
       "      <td>4.0</td>\n",
       "      <td>Trip Completed</td>\n",
       "      <td>2016-07-14 02:17:35</td>\n",
       "      <td>2016-07-14 03:21:38</td>\n",
       "      <td>2</td>\n",
       "      <td>14</td>\n",
       "      <td>Early Morning</td>\n",
       "    </tr>\n",
       "    <tr>\n",
       "      <th>53</th>\n",
       "      <td>4081</td>\n",
       "      <td>Airport</td>\n",
       "      <td>6.0</td>\n",
       "      <td>Trip Completed</td>\n",
       "      <td>2016-07-14 02:37:14</td>\n",
       "      <td>2016-07-14 03:30:27</td>\n",
       "      <td>2</td>\n",
       "      <td>14</td>\n",
       "      <td>Early Morning</td>\n",
       "    </tr>\n",
       "    <tr>\n",
       "      <th>56</th>\n",
       "      <td>6758</td>\n",
       "      <td>Airport</td>\n",
       "      <td>6.0</td>\n",
       "      <td>Trip Completed</td>\n",
       "      <td>2016-07-15 00:03:39</td>\n",
       "      <td>2016-07-15 01:07:39</td>\n",
       "      <td>0</td>\n",
       "      <td>15</td>\n",
       "      <td>Early Morning</td>\n",
       "    </tr>\n",
       "  </tbody>\n",
       "</table>\n",
       "</div>"
      ],
      "text/plain": [
       "    Request id Pickup point  Driver id          Status   Request timestamp  \\\n",
       "12        2784      Airport        2.0  Trip Completed 2016-07-13 04:49:20   \n",
       "26        5434         City        3.0  Trip Completed 2016-07-15 02:41:38   \n",
       "34        4075         City        4.0  Trip Completed 2016-07-14 02:17:35   \n",
       "53        4081      Airport        6.0  Trip Completed 2016-07-14 02:37:14   \n",
       "56        6758      Airport        6.0  Trip Completed 2016-07-15 00:03:39   \n",
       "\n",
       "        Drop timestamp  Request_hour  Request_day Time_of_the_day  \n",
       "12 2016-07-13 05:23:03             4           13   Early Morning  \n",
       "26 2016-07-15 03:24:43             2           15   Early Morning  \n",
       "34 2016-07-14 03:21:38             2           14   Early Morning  \n",
       "53 2016-07-14 03:30:27             2           14   Early Morning  \n",
       "56 2016-07-15 01:07:39             0           15   Early Morning  "
      ]
     },
     "execution_count": 21,
     "metadata": {},
     "output_type": "execute_result"
    }
   ],
   "source": [
    "# subsetting the data frame based on the duration of the day ( which we just created) and adding it to the main dataframe\n",
    "Early_morning_slot = uber[uber['Time_of_the_day'] == \"Early Morning\"]\n",
    "# displaying the early_morning slot dataframe\n",
    "Early_morning_slot.head()"
   ]
  },
  {
   "cell_type": "code",
   "execution_count": 22,
   "metadata": {},
   "outputs": [
    {
     "data": {
      "text/plain": [
       "Text(0.5, 1.0, 'Early Morning Duration(before 5am) V/S Status of Cabs')"
      ]
     },
     "execution_count": 22,
     "metadata": {},
     "output_type": "execute_result"
    },
    {
     "data": {
      "image/png": "[encoded data removed]",
      "text/plain": [
       "<Figure size 432x288 with 1 Axes>"
      ]
     },
     "metadata": {
      "needs_background": "light"
     },
     "output_type": "display_data"
    }
   ],
   "source": [
    "# plotting a graph to show the pickup point with respect to the status of the cabs in the early morning slot\n",
    "sns.countplot(x='Pickup point',hue='Status',data=Early_morning_slot,palette='Reds_d')\n",
    "# setting up  the x label\n",
    "plt.xlabel('Pickup point',fontweight=\"bold\")\n",
    "# setting up the y label\n",
    "plt.ylabel(\"Status of cabs\",fontweight='bold')\n",
    "# setting the title for the graph\n",
    "plt.title(\"Early Morning Duration(before 5am) V/S Status of Cabs\",fontweight='bold')"
   ]
  },
  {
   "cell_type": "code",
   "execution_count": 23,
   "metadata": {},
   "outputs": [
    {
     "data": {
      "text/html": [
       "<div>\n",
       "<style scoped>\n",
       "    .dataframe tbody tr th:only-of-type {\n",
       "        vertical-align: middle;\n",
       "    }\n",
       "\n",
       "    .dataframe tbody tr th {\n",
       "        vertical-align: top;\n",
       "    }\n",
       "\n",
       "    .dataframe thead th {\n",
       "        text-align: right;\n",
       "    }\n",
       "</style>\n",
       "<table border=\"1\" class=\"dataframe\">\n",
       "  <thead>\n",
       "    <tr style=\"text-align: right;\">\n",
       "      <th></th>\n",
       "      <th>Request id</th>\n",
       "      <th>Pickup point</th>\n",
       "      <th>Driver id</th>\n",
       "      <th>Status</th>\n",
       "      <th>Request timestamp</th>\n",
       "      <th>Drop timestamp</th>\n",
       "      <th>Request_hour</th>\n",
       "      <th>Request_day</th>\n",
       "      <th>Time_of_the_day</th>\n",
       "    </tr>\n",
       "  </thead>\n",
       "  <tbody>\n",
       "    <tr>\n",
       "      <th>0</th>\n",
       "      <td>619</td>\n",
       "      <td>Airport</td>\n",
       "      <td>1.0</td>\n",
       "      <td>Trip Completed</td>\n",
       "      <td>2016-11-07 11:51:00</td>\n",
       "      <td>2016-11-07 13:00:00</td>\n",
       "      <td>11</td>\n",
       "      <td>7</td>\n",
       "      <td>Morning</td>\n",
       "    </tr>\n",
       "    <tr>\n",
       "      <th>2</th>\n",
       "      <td>1807</td>\n",
       "      <td>City</td>\n",
       "      <td>1.0</td>\n",
       "      <td>Trip Completed</td>\n",
       "      <td>2016-12-07 09:17:00</td>\n",
       "      <td>2016-12-07 09:58:00</td>\n",
       "      <td>9</td>\n",
       "      <td>7</td>\n",
       "      <td>Morning</td>\n",
       "    </tr>\n",
       "    <tr>\n",
       "      <th>4</th>\n",
       "      <td>3112</td>\n",
       "      <td>City</td>\n",
       "      <td>1.0</td>\n",
       "      <td>Trip Completed</td>\n",
       "      <td>2016-07-13 08:33:16</td>\n",
       "      <td>2016-07-13 09:25:47</td>\n",
       "      <td>8</td>\n",
       "      <td>13</td>\n",
       "      <td>Morning</td>\n",
       "    </tr>\n",
       "    <tr>\n",
       "      <th>6</th>\n",
       "      <td>4270</td>\n",
       "      <td>Airport</td>\n",
       "      <td>1.0</td>\n",
       "      <td>Trip Completed</td>\n",
       "      <td>2016-07-14 06:15:32</td>\n",
       "      <td>2016-07-14 07:13:15</td>\n",
       "      <td>6</td>\n",
       "      <td>14</td>\n",
       "      <td>Morning</td>\n",
       "    </tr>\n",
       "    <tr>\n",
       "      <th>7</th>\n",
       "      <td>5510</td>\n",
       "      <td>Airport</td>\n",
       "      <td>1.0</td>\n",
       "      <td>Trip Completed</td>\n",
       "      <td>2016-07-15 05:11:52</td>\n",
       "      <td>2016-07-15 06:07:52</td>\n",
       "      <td>5</td>\n",
       "      <td>15</td>\n",
       "      <td>Morning</td>\n",
       "    </tr>\n",
       "  </tbody>\n",
       "</table>\n",
       "</div>"
      ],
      "text/plain": [
       "   Request id Pickup point  Driver id          Status   Request timestamp  \\\n",
       "0         619      Airport        1.0  Trip Completed 2016-11-07 11:51:00   \n",
       "2        1807         City        1.0  Trip Completed 2016-12-07 09:17:00   \n",
       "4        3112         City        1.0  Trip Completed 2016-07-13 08:33:16   \n",
       "6        4270      Airport        1.0  Trip Completed 2016-07-14 06:15:32   \n",
       "7        5510      Airport        1.0  Trip Completed 2016-07-15 05:11:52   \n",
       "\n",
       "       Drop timestamp  Request_hour  Request_day Time_of_the_day  \n",
       "0 2016-11-07 13:00:00            11            7         Morning  \n",
       "2 2016-12-07 09:58:00             9            7         Morning  \n",
       "4 2016-07-13 09:25:47             8           13         Morning  \n",
       "6 2016-07-14 07:13:15             6           14         Morning  \n",
       "7 2016-07-15 06:07:52             5           15         Morning  "
      ]
     },
     "execution_count": 23,
     "metadata": {},
     "output_type": "execute_result"
    }
   ],
   "source": [
    "# subsetting the dataframe and selecting only the Morning time slot\n",
    "Morning_slot = uber[uber['Time_of_the_day'] == \"Morning\"]\n",
    "Morning_slot.head()"
   ]
  },
  {
   "cell_type": "code",
   "execution_count": 24,
   "metadata": {},
   "outputs": [
    {
     "data": {
      "text/plain": [
       "Text(0.5, 1.0, 'Morning Duration(5am to 12 pm) V/S Status of Cabs')"
      ]
     },
     "execution_count": 24,
     "metadata": {},
     "output_type": "execute_result"
    },
    {
     "data": {
      "image/png": "[encoded data removed]",
      "text/plain": [
       "<Figure size 432x288 with 1 Axes>"
      ]
     },
     "metadata": {
      "needs_background": "light"
     },
     "output_type": "display_data"
    }
   ],
   "source": [
    "# plotting the pickup point w.r.t status of the trip in the morning slot\n",
    "sns.countplot(x='Pickup point',hue='Status',data=Morning_slot,palette='Blues_d')\n",
    "# setting the x label\n",
    "plt.xlabel('Pickup point',fontweight=\"bold\")\n",
    "# setting the y label\n",
    "plt.ylabel(\"Status of cabs\",fontweight='bold')\n",
    "# setting the title of the graph\n",
    "plt.title(\"Morning Duration(5am to 12 pm) V/S Status of Cabs\",fontweight='bold')"
   ]
  },
  {
   "cell_type": "code",
   "execution_count": 25,
   "metadata": {},
   "outputs": [
    {
     "data": {
      "text/plain": [
       "37"
      ]
     },
     "execution_count": 25,
     "metadata": {},
     "output_type": "execute_result"
    }
   ],
   "source": [
    "# displaying the count of trips which were cancelled in the morning slot where pickup was from Airport\n",
    "Morning_slot.loc[(Morning_slot['Pickup point']=='Airport') & (Morning_slot['Status'] == 'Cancelled')].shape[0]"
   ]
  },
  {
   "cell_type": "code",
   "execution_count": 26,
   "metadata": {},
   "outputs": [
    {
     "data": {
      "text/plain": [
       "484"
      ]
     },
     "execution_count": 26,
     "metadata": {},
     "output_type": "execute_result"
    }
   ],
   "source": [
    "# displaying the count of trips which were completed in the morning slot where pickup was from Airport\n",
    "Morning_slot.loc[(Morning_slot['Pickup point']=='Airport') & (Morning_slot['Status'] == 'Trip Completed')].shape[0]"
   ]
  },
  {
   "cell_type": "code",
   "execution_count": 27,
   "metadata": {},
   "outputs": [
    {
     "data": {
      "text/plain": [
       "44"
      ]
     },
     "execution_count": 27,
     "metadata": {},
     "output_type": "execute_result"
    }
   ],
   "source": [
    "# displaying the count of status where ' no cars were available' in the morming slot where pickup was from Airport\n",
    "Morning_slot.loc[(Morning_slot['Pickup point']=='Airport') & (Morning_slot['Status'] == 'No Cars Available')].shape[0]"
   ]
  },
  {
   "cell_type": "code",
   "execution_count": 28,
   "metadata": {},
   "outputs": [
    {
     "data": {
      "text/plain": [
       "883"
      ]
     },
     "execution_count": 28,
     "metadata": {},
     "output_type": "execute_result"
    }
   ],
   "source": [
    "# displaying the count of trips which were cancelled in the morning slot where pickup was from City\n",
    "Morning_slot.loc[(Morning_slot['Pickup point']=='City') & (Morning_slot['Status'] == 'Cancelled')].shape[0]"
   ]
  },
  {
   "cell_type": "code",
   "execution_count": 29,
   "metadata": {},
   "outputs": [
    {
     "data": {
      "text/plain": [
       "601"
      ]
     },
     "execution_count": 29,
     "metadata": {},
     "output_type": "execute_result"
    }
   ],
   "source": [
    "# displaying the count of trips which were completed in the morning slot where pickup was from City\n",
    "Morning_slot.loc[(Morning_slot['Pickup point']=='City') & (Morning_slot['Status'] == 'Trip Completed')].shape[0]"
   ]
  },
  {
   "cell_type": "code",
   "execution_count": 30,
   "metadata": {},
   "outputs": [
    {
     "data": {
      "text/plain": [
       "468"
      ]
     },
     "execution_count": 30,
     "metadata": {},
     "output_type": "execute_result"
    }
   ],
   "source": [
    "# displaying the count of status where ' no cars were available' in the morming slot where pickup was from City\n",
    "Morning_slot.loc[(Morning_slot['Pickup point']=='City') & (Morning_slot['Status'] == 'No Cars Available')].shape[0]"
   ]
  },
  {
   "cell_type": "code",
   "execution_count": 31,
   "metadata": {},
   "outputs": [
    {
     "data": {
      "text/html": [
       "<div>\n",
       "<style scoped>\n",
       "    .dataframe tbody tr th:only-of-type {\n",
       "        vertical-align: middle;\n",
       "    }\n",
       "\n",
       "    .dataframe tbody tr th {\n",
       "        vertical-align: top;\n",
       "    }\n",
       "\n",
       "    .dataframe thead th {\n",
       "        text-align: right;\n",
       "    }\n",
       "</style>\n",
       "<table border=\"1\" class=\"dataframe\">\n",
       "  <thead>\n",
       "    <tr style=\"text-align: right;\">\n",
       "      <th></th>\n",
       "      <th>Request id</th>\n",
       "      <th>Pickup point</th>\n",
       "      <th>Driver id</th>\n",
       "      <th>Status</th>\n",
       "      <th>Request timestamp</th>\n",
       "      <th>Drop timestamp</th>\n",
       "      <th>Request_hour</th>\n",
       "      <th>Request_day</th>\n",
       "      <th>Time_of_the_day</th>\n",
       "    </tr>\n",
       "  </thead>\n",
       "  <tbody>\n",
       "    <tr>\n",
       "      <th>11</th>\n",
       "      <td>1983</td>\n",
       "      <td>City</td>\n",
       "      <td>2.0</td>\n",
       "      <td>Trip Completed</td>\n",
       "      <td>2016-12-07 12:30:00</td>\n",
       "      <td>2016-12-07 12:57:00</td>\n",
       "      <td>12</td>\n",
       "      <td>7</td>\n",
       "      <td>Afternoon</td>\n",
       "    </tr>\n",
       "    <tr>\n",
       "      <th>14</th>\n",
       "      <td>3379</td>\n",
       "      <td>City</td>\n",
       "      <td>2.0</td>\n",
       "      <td>Trip Completed</td>\n",
       "      <td>2016-07-13 14:23:02</td>\n",
       "      <td>2016-07-13 15:35:18</td>\n",
       "      <td>14</td>\n",
       "      <td>13</td>\n",
       "      <td>Afternoon</td>\n",
       "    </tr>\n",
       "    <tr>\n",
       "      <th>16</th>\n",
       "      <td>4652</td>\n",
       "      <td>City</td>\n",
       "      <td>2.0</td>\n",
       "      <td>Trip Completed</td>\n",
       "      <td>2016-07-14 12:01:02</td>\n",
       "      <td>2016-07-14 12:36:46</td>\n",
       "      <td>12</td>\n",
       "      <td>14</td>\n",
       "      <td>Afternoon</td>\n",
       "    </tr>\n",
       "    <tr>\n",
       "      <th>21</th>\n",
       "      <td>2083</td>\n",
       "      <td>Airport</td>\n",
       "      <td>3.0</td>\n",
       "      <td>Trip Completed</td>\n",
       "      <td>2016-12-07 15:46:00</td>\n",
       "      <td>2016-12-07 16:40:00</td>\n",
       "      <td>15</td>\n",
       "      <td>7</td>\n",
       "      <td>Afternoon</td>\n",
       "    </tr>\n",
       "    <tr>\n",
       "      <th>28</th>\n",
       "      <td>669</td>\n",
       "      <td>City</td>\n",
       "      <td>4.0</td>\n",
       "      <td>Trip Completed</td>\n",
       "      <td>2016-11-07 13:08:00</td>\n",
       "      <td>2016-11-07 13:49:00</td>\n",
       "      <td>13</td>\n",
       "      <td>7</td>\n",
       "      <td>Afternoon</td>\n",
       "    </tr>\n",
       "  </tbody>\n",
       "</table>\n",
       "</div>"
      ],
      "text/plain": [
       "    Request id Pickup point  Driver id          Status   Request timestamp  \\\n",
       "11        1983         City        2.0  Trip Completed 2016-12-07 12:30:00   \n",
       "14        3379         City        2.0  Trip Completed 2016-07-13 14:23:02   \n",
       "16        4652         City        2.0  Trip Completed 2016-07-14 12:01:02   \n",
       "21        2083      Airport        3.0  Trip Completed 2016-12-07 15:46:00   \n",
       "28         669         City        4.0  Trip Completed 2016-11-07 13:08:00   \n",
       "\n",
       "        Drop timestamp  Request_hour  Request_day Time_of_the_day  \n",
       "11 2016-12-07 12:57:00            12            7       Afternoon  \n",
       "14 2016-07-13 15:35:18            14           13       Afternoon  \n",
       "16 2016-07-14 12:36:46            12           14       Afternoon  \n",
       "21 2016-12-07 16:40:00            15            7       Afternoon  \n",
       "28 2016-11-07 13:49:00            13            7       Afternoon  "
      ]
     },
     "execution_count": 31,
     "metadata": {},
     "output_type": "execute_result"
    }
   ],
   "source": [
    "# subsetting the dataframe and selecting only the Afternoon time slot\n",
    "Afternoon_slot = uber[uber['Time_of_the_day'] == \"Afternoon\"]\n",
    "Afternoon_slot.head()"
   ]
  },
  {
   "cell_type": "code",
   "execution_count": 32,
   "metadata": {},
   "outputs": [
    {
     "data": {
      "text/plain": [
       "Text(0.5, 1.0, 'Afternoon Duration(12pm to 5 pm) V/S Status of Cabs')"
      ]
     },
     "execution_count": 32,
     "metadata": {},
     "output_type": "execute_result"
    },
    {
     "data": {
      "image/png": "[encoded data removed]",
      "text/plain": [
       "<Figure size 432x288 with 1 Axes>"
      ]
     },
     "metadata": {
      "needs_background": "light"
     },
     "output_type": "display_data"
    }
   ],
   "source": [
    "# subsetting the dataframe and selecting only the Afternoon time slot\n",
    "sns.countplot(x='Pickup point',hue='Status',data=Afternoon_slot,palette='husl')\n",
    "# setting the x label\n",
    "plt.xlabel('Pickup Point',fontweight=\"bold\")\n",
    "# setting the y label\n",
    "plt.ylabel(\"Status of cabs\",fontweight='bold')\n",
    "# setting the plot title\n",
    "plt.title(\"Afternoon Duration(12pm to 5 pm) V/S Status of Cabs\",fontweight='bold')"
   ]
  },
  {
   "cell_type": "code",
   "execution_count": 33,
   "metadata": {},
   "outputs": [
    {
     "data": {
      "text/html": [
       "<div>\n",
       "<style scoped>\n",
       "    .dataframe tbody tr th:only-of-type {\n",
       "        vertical-align: middle;\n",
       "    }\n",
       "\n",
       "    .dataframe tbody tr th {\n",
       "        vertical-align: top;\n",
       "    }\n",
       "\n",
       "    .dataframe thead th {\n",
       "        text-align: right;\n",
       "    }\n",
       "</style>\n",
       "<table border=\"1\" class=\"dataframe\">\n",
       "  <thead>\n",
       "    <tr style=\"text-align: right;\">\n",
       "      <th></th>\n",
       "      <th>Request id</th>\n",
       "      <th>Pickup point</th>\n",
       "      <th>Driver id</th>\n",
       "      <th>Status</th>\n",
       "      <th>Request timestamp</th>\n",
       "      <th>Drop timestamp</th>\n",
       "      <th>Request_hour</th>\n",
       "      <th>Request_day</th>\n",
       "      <th>Time_of_the_day</th>\n",
       "    </tr>\n",
       "  </thead>\n",
       "  <tbody>\n",
       "    <tr>\n",
       "      <th>1</th>\n",
       "      <td>867</td>\n",
       "      <td>Airport</td>\n",
       "      <td>1.0</td>\n",
       "      <td>Trip Completed</td>\n",
       "      <td>2016-11-07 17:57:00</td>\n",
       "      <td>2016-11-07 18:47:00</td>\n",
       "      <td>17</td>\n",
       "      <td>7</td>\n",
       "      <td>Evening</td>\n",
       "    </tr>\n",
       "    <tr>\n",
       "      <th>3</th>\n",
       "      <td>2532</td>\n",
       "      <td>Airport</td>\n",
       "      <td>1.0</td>\n",
       "      <td>Trip Completed</td>\n",
       "      <td>2016-12-07 21:08:00</td>\n",
       "      <td>2016-12-07 22:03:00</td>\n",
       "      <td>21</td>\n",
       "      <td>7</td>\n",
       "      <td>Evening</td>\n",
       "    </tr>\n",
       "    <tr>\n",
       "      <th>5</th>\n",
       "      <td>3879</td>\n",
       "      <td>Airport</td>\n",
       "      <td>1.0</td>\n",
       "      <td>Trip Completed</td>\n",
       "      <td>2016-07-13 21:57:28</td>\n",
       "      <td>2016-07-13 22:28:59</td>\n",
       "      <td>21</td>\n",
       "      <td>13</td>\n",
       "      <td>Evening</td>\n",
       "    </tr>\n",
       "    <tr>\n",
       "      <th>8</th>\n",
       "      <td>6248</td>\n",
       "      <td>City</td>\n",
       "      <td>1.0</td>\n",
       "      <td>Trip Completed</td>\n",
       "      <td>2016-07-15 17:57:27</td>\n",
       "      <td>2016-07-15 18:50:51</td>\n",
       "      <td>17</td>\n",
       "      <td>15</td>\n",
       "      <td>Evening</td>\n",
       "    </tr>\n",
       "    <tr>\n",
       "      <th>15</th>\n",
       "      <td>3482</td>\n",
       "      <td>Airport</td>\n",
       "      <td>2.0</td>\n",
       "      <td>Trip Completed</td>\n",
       "      <td>2016-07-13 17:23:18</td>\n",
       "      <td>2016-07-13 18:20:51</td>\n",
       "      <td>17</td>\n",
       "      <td>13</td>\n",
       "      <td>Evening</td>\n",
       "    </tr>\n",
       "  </tbody>\n",
       "</table>\n",
       "</div>"
      ],
      "text/plain": [
       "    Request id Pickup point  Driver id          Status   Request timestamp  \\\n",
       "1          867      Airport        1.0  Trip Completed 2016-11-07 17:57:00   \n",
       "3         2532      Airport        1.0  Trip Completed 2016-12-07 21:08:00   \n",
       "5         3879      Airport        1.0  Trip Completed 2016-07-13 21:57:28   \n",
       "8         6248         City        1.0  Trip Completed 2016-07-15 17:57:27   \n",
       "15        3482      Airport        2.0  Trip Completed 2016-07-13 17:23:18   \n",
       "\n",
       "        Drop timestamp  Request_hour  Request_day Time_of_the_day  \n",
       "1  2016-11-07 18:47:00            17            7         Evening  \n",
       "3  2016-12-07 22:03:00            21            7         Evening  \n",
       "5  2016-07-13 22:28:59            21           13         Evening  \n",
       "8  2016-07-15 18:50:51            17           15         Evening  \n",
       "15 2016-07-13 18:20:51            17           13         Evening  "
      ]
     },
     "execution_count": 33,
     "metadata": {},
     "output_type": "execute_result"
    }
   ],
   "source": [
    "# subsetting the dataframe and selecting only the Evening time slot\n",
    "Evening_slot = uber[uber['Time_of_the_day'] == \"Evening\"]\n",
    "# displaying the evening time slot dataframe\n",
    "Evening_slot.head()"
   ]
  },
  {
   "cell_type": "code",
   "execution_count": 34,
   "metadata": {},
   "outputs": [
    {
     "data": {
      "text/plain": [
       "Text(0.5, 1.0, 'Evening Duration(5pm to 10pm) V/S Status of Cabs')"
      ]
     },
     "execution_count": 34,
     "metadata": {},
     "output_type": "execute_result"
    },
    {
     "data": {
      "image/png": "[encoded data removed]",
      "text/plain": [
       "<Figure size 432x288 with 1 Axes>"
      ]
     },
     "metadata": {
      "needs_background": "light"
     },
     "output_type": "display_data"
    }
   ],
   "source": [
    "# plotting the Pickup point versus the Status during the evening \n",
    "sns.countplot(x='Pickup point',hue='Status',data=Evening_slot,palette='husl')\n",
    "# setting the x label\n",
    "plt.xlabel('Pickup Point',fontweight=\"bold\")\n",
    "# setting the y label\n",
    "plt.ylabel(\"Status of cabs\",fontweight='bold')\n",
    "# setting the title for the plot\n",
    "plt.title(\"Evening Duration(5pm to 10pm) V/S Status of Cabs\",fontweight='bold')"
   ]
  },
  {
   "cell_type": "code",
   "execution_count": 35,
   "metadata": {},
   "outputs": [
    {
     "data": {
      "text/plain": [
       "106"
      ]
     },
     "execution_count": 35,
     "metadata": {},
     "output_type": "execute_result"
    }
   ],
   "source": [
    "# displaying the count of trips which were cancelled in the evening slot where pickup was from Airport\n",
    "Evening_slot.loc[(Evening_slot['Pickup point']=='Airport') & (Evening_slot['Status'] == 'Cancelled')].shape[0]"
   ]
  },
  {
   "cell_type": "code",
   "execution_count": 36,
   "metadata": {},
   "outputs": [
    {
     "data": {
      "text/plain": [
       "373"
      ]
     },
     "execution_count": 36,
     "metadata": {},
     "output_type": "execute_result"
    }
   ],
   "source": [
    "# displaying the count of trips which were completed in the evening slot where pickup was from Airport\n",
    "Evening_slot.loc[(Evening_slot['Pickup point']=='Airport') & (Evening_slot['Status'] == 'Trip Completed')].shape[0]"
   ]
  },
  {
   "cell_type": "code",
   "execution_count": 37,
   "metadata": {},
   "outputs": [
    {
     "data": {
      "text/plain": [
       "1321"
      ]
     },
     "execution_count": 37,
     "metadata": {},
     "output_type": "execute_result"
    }
   ],
   "source": [
    "# displaying the count of status where ' no cars were available' in the evening slot where pickup was from Airport\n",
    "Evening_slot.loc[(Evening_slot['Pickup point']=='Airport') & (Evening_slot['Status'] == 'No Cars Available')].shape[0]"
   ]
  },
  {
   "cell_type": "code",
   "execution_count": 38,
   "metadata": {},
   "outputs": [
    {
     "data": {
      "text/plain": [
       "60"
      ]
     },
     "execution_count": 38,
     "metadata": {},
     "output_type": "execute_result"
    }
   ],
   "source": [
    "# displaying the count of trips which were cancelled in the evening slot where pickup was from City\n",
    "Evening_slot.loc[(Evening_slot['Pickup point']=='City') & (Evening_slot['Status'] == 'Cancelled')].shape[0]"
   ]
  },
  {
   "cell_type": "code",
   "execution_count": 39,
   "metadata": {},
   "outputs": [
    {
     "data": {
      "text/plain": [
       "411"
      ]
     },
     "execution_count": 39,
     "metadata": {},
     "output_type": "execute_result"
    }
   ],
   "source": [
    "# displaying the count of trips which were completed in the evening slot where pickup was from City\n",
    "Evening_slot.loc[(Evening_slot['Pickup point']=='City') & (Evening_slot['Status'] == 'Trip Completed')].shape[0]"
   ]
  },
  {
   "cell_type": "code",
   "execution_count": 40,
   "metadata": {},
   "outputs": [
    {
     "data": {
      "text/plain": [
       "71"
      ]
     },
     "execution_count": 40,
     "metadata": {},
     "output_type": "execute_result"
    }
   ],
   "source": [
    "# displaying the count of status where ' no cars were available' in the evening slot where pickup was from City\n",
    "Evening_slot.loc[(Evening_slot['Pickup point']=='City') & (Evening_slot['Status'] == 'No Cars Available')].shape[0]"
   ]
  },
  {
   "cell_type": "code",
   "execution_count": 41,
   "metadata": {
    "scrolled": true
   },
   "outputs": [
    {
     "data": {
      "text/html": [
       "<div>\n",
       "<style scoped>\n",
       "    .dataframe tbody tr th:only-of-type {\n",
       "        vertical-align: middle;\n",
       "    }\n",
       "\n",
       "    .dataframe tbody tr th {\n",
       "        vertical-align: top;\n",
       "    }\n",
       "\n",
       "    .dataframe thead th {\n",
       "        text-align: right;\n",
       "    }\n",
       "</style>\n",
       "<table border=\"1\" class=\"dataframe\">\n",
       "  <thead>\n",
       "    <tr style=\"text-align: right;\">\n",
       "      <th></th>\n",
       "      <th>Request id</th>\n",
       "      <th>Pickup point</th>\n",
       "      <th>Driver id</th>\n",
       "      <th>Status</th>\n",
       "      <th>Request timestamp</th>\n",
       "      <th>Drop timestamp</th>\n",
       "      <th>Request_hour</th>\n",
       "      <th>Request_day</th>\n",
       "      <th>Time_of_the_day</th>\n",
       "    </tr>\n",
       "  </thead>\n",
       "  <tbody>\n",
       "    <tr>\n",
       "      <th>17</th>\n",
       "      <td>5335</td>\n",
       "      <td>Airport</td>\n",
       "      <td>2.0</td>\n",
       "      <td>Trip Completed</td>\n",
       "      <td>2016-07-14 22:24:13</td>\n",
       "      <td>2016-07-14 23:18:52</td>\n",
       "      <td>22</td>\n",
       "      <td>14</td>\n",
       "      <td>Late Night</td>\n",
       "    </tr>\n",
       "    <tr>\n",
       "      <th>48</th>\n",
       "      <td>6690</td>\n",
       "      <td>Airport</td>\n",
       "      <td>5.0</td>\n",
       "      <td>Trip Completed</td>\n",
       "      <td>2016-07-15 22:41:41</td>\n",
       "      <td>2016-07-15 23:51:00</td>\n",
       "      <td>22</td>\n",
       "      <td>15</td>\n",
       "      <td>Late Night</td>\n",
       "    </tr>\n",
       "    <tr>\n",
       "      <th>60</th>\n",
       "      <td>1273</td>\n",
       "      <td>Airport</td>\n",
       "      <td>7.0</td>\n",
       "      <td>Trip Completed</td>\n",
       "      <td>2016-11-07 22:07:00</td>\n",
       "      <td>2016-11-07 23:12:00</td>\n",
       "      <td>22</td>\n",
       "      <td>7</td>\n",
       "      <td>Late Night</td>\n",
       "    </tr>\n",
       "    <tr>\n",
       "      <th>75</th>\n",
       "      <td>1346</td>\n",
       "      <td>Airport</td>\n",
       "      <td>9.0</td>\n",
       "      <td>Trip Completed</td>\n",
       "      <td>2016-11-07 23:39:00</td>\n",
       "      <td>2016-12-07 00:23:00</td>\n",
       "      <td>23</td>\n",
       "      <td>7</td>\n",
       "      <td>Late Night</td>\n",
       "    </tr>\n",
       "    <tr>\n",
       "      <th>81</th>\n",
       "      <td>4023</td>\n",
       "      <td>City</td>\n",
       "      <td>9.0</td>\n",
       "      <td>Trip Completed</td>\n",
       "      <td>2016-07-13 23:58:41</td>\n",
       "      <td>2016-07-14 00:58:39</td>\n",
       "      <td>23</td>\n",
       "      <td>13</td>\n",
       "      <td>Late Night</td>\n",
       "    </tr>\n",
       "  </tbody>\n",
       "</table>\n",
       "</div>"
      ],
      "text/plain": [
       "    Request id Pickup point  Driver id          Status   Request timestamp  \\\n",
       "17        5335      Airport        2.0  Trip Completed 2016-07-14 22:24:13   \n",
       "48        6690      Airport        5.0  Trip Completed 2016-07-15 22:41:41   \n",
       "60        1273      Airport        7.0  Trip Completed 2016-11-07 22:07:00   \n",
       "75        1346      Airport        9.0  Trip Completed 2016-11-07 23:39:00   \n",
       "81        4023         City        9.0  Trip Completed 2016-07-13 23:58:41   \n",
       "\n",
       "        Drop timestamp  Request_hour  Request_day Time_of_the_day  \n",
       "17 2016-07-14 23:18:52            22           14      Late Night  \n",
       "48 2016-07-15 23:51:00            22           15      Late Night  \n",
       "60 2016-11-07 23:12:00            22            7      Late Night  \n",
       "75 2016-12-07 00:23:00            23            7      Late Night  \n",
       "81 2016-07-14 00:58:39            23           13      Late Night  "
      ]
     },
     "execution_count": 41,
     "metadata": {},
     "output_type": "execute_result"
    }
   ],
   "source": [
    "# subsetting the data based on the pickup points and status during late night hours i.e after 2200 hours\n",
    "Late_night_slot = uber[uber['Time_of_the_day'] == \"Late Night\"]\n",
    "Late_night_slot.head()"
   ]
  },
  {
   "cell_type": "code",
   "execution_count": 42,
   "metadata": {},
   "outputs": [
    {
     "data": {
      "text/plain": [
       "Text(0.5, 1.0, 'Late night (after 10pm) V/S Status of Cabs')"
      ]
     },
     "execution_count": 42,
     "metadata": {},
     "output_type": "execute_result"
    },
    {
     "data": {
      "image/png": "[encoded data removed]",
      "text/plain": [
       "<Figure size 432x288 with 1 Axes>"
      ]
     },
     "metadata": {
      "needs_background": "light"
     },
     "output_type": "display_data"
    }
   ],
   "source": [
    "# plotting the pickup point versus the status of cabs during late night hours\n",
    "sns.countplot(x='Pickup point',hue='Status',data=Late_night_slot,palette='Set1')\n",
    "# setting the x label\n",
    "plt.xlabel('Pickup Point',fontweight=\"bold\")\n",
    "# setting the y label\n",
    "plt.ylabel(\"Status of cabs\",fontweight='bold')\n",
    "# setting the title of the plot\n",
    "plt.title(\"Late night (after 10pm) V/S Status of Cabs\",fontweight='bold')"
   ]
  }
 ],
 "metadata": {
  "kernelspec": {
   "display_name": "Python 3",
   "language": "python",
   "name": "python3"
  },
  "language_info": {
   "codemirror_mode": {
    "name": "ipython",
    "version": 3
   },
   "file_extension": ".py",
   "mimetype": "text/x-python",
   "name": "python",
   "nbconvert_exporter": "python",
   "pygments_lexer": "ipython3",
   "version": "3.7.1"
  }
 },
 "nbformat": 4,
 "nbformat_minor": 2
}
